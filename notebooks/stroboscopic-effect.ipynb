{
 "cells": [
  {
   "cell_type": "code",
   "execution_count": null,
   "metadata": {},
   "outputs": [],
   "source": [
    "require('module-alias/register')\n",
    "var Vec = require('@src/vec')\n",
    "var drawing = require('@src/drawing')\n",
    "var createCanvas = require('canvas').createCanvas\n",
    "\n",
    "var Matter = require('matter-js')\n",
    "\n",
    "var Engine = Matter.Engine,\n",
    "    World = Matter.World,\n",
    "    Bodies = Matter.Bodies\n",
    "undefined;"
   ]
  },
  {
   "cell_type": "markdown",
   "metadata": {},
   "source": [
    "# Analysing Motion with Stroboscopic effect"
   ]
  },
  {
   "cell_type": "markdown",
   "metadata": {},
   "source": [
    "** Investigate ** bounce"
   ]
  },
  {
   "cell_type": "code",
   "execution_count": null,
   "metadata": {},
   "outputs": [],
   "source": [
    "var BOUNCE = 1\n",
    "var CANVAS_SIZE = new Vec(700, 400)\n",
    "var canvas = createCanvas(...CANVAS_SIZE)\n",
    "var ctx = canvas.getContext('2d')\n",
    "var engine = Engine.create()\n",
    "var ball = Bodies.circle(100, 50, 40, {restitution: BOUNCE})\n",
    "var ground = Bodies.rectangle(CANVAS_SIZE.x / 2, CANVAS_SIZE.y, CANVAS_SIZE.x, 30, {\n",
    "    isStatic: true,\n",
    "    restitution: BOUNCE\n",
    "})\n",
    "World.add(engine.world, [ball, ground])\n",
    "\n",
    "ctx.strokeStyle = 'black'\n",
    "ctx.strokeRect(0, 0, ...CANVAS_SIZE)\n",
    "for (let t = 0; t < 500; t++) {\n",
    "    Engine.update(engine)\n",
    "    drawing.mark_poly(ctx, ball.vertices.map(x => Vec.fromObject(x).add(new Vec(t, 0))))\n",
    "    ctx.stroke()\n",
    "    ctx.beginPath()\n",
    "}\n",
    "ctx.font = '16px serif'\n",
    "ctx.fillText('y ↓, t →', 600, 30)\n",
    "drawing.show_canvas(canvas)"
   ]
  }
 ],
 "metadata": {
  "kernelspec": {
   "display_name": "Javascript (Node.js)",
   "language": "javascript",
   "name": "javascript"
  },
  "language_info": {
   "file_extension": ".js",
   "mimetype": "application/javascript",
   "name": "javascript",
   "version": "10.19.0"
  }
 },
 "nbformat": 4,
 "nbformat_minor": 4
}
