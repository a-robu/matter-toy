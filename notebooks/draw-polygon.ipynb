{
 "cells": [
  {
   "cell_type": "code",
   "execution_count": null,
   "metadata": {},
   "outputs": [],
   "source": [
    "require('module-alias/register')\n",
    "var Vec = require('@src/vec')\n",
    "var show_canvas = require('@src/show_canvas')\n",
    "var createCanvas = require('canvas').createCanvas"
   ]
  },
  {
   "cell_type": "code",
   "execution_count": null,
   "metadata": {},
   "outputs": [],
   "source": [
    "var CANVAS_SIZE = new Vec(300, 200)\n",
    "var canvas = createCanvas(...CANVAS_SIZE)\n",
    "var ctx = canvas.getContext('2d')\n",
    "\n",
    "hull = [\n",
    "    new Vec(-0.9, -1), // top-left\n",
    "    new Vec(0.9, -1),  // top-right\n",
    "    new Vec(1.3, 1),   // bottom-right\n",
    "    new Vec(-1.3, 1)   // bottom-left\n",
    "]\n",
    "\n",
    "ctx.translate(...CANVAS_SIZE.scale(0.5))\n",
    "ctx.scale(...CANVAS_SIZE.scale(0.2))\n",
    "ctx.lineWidth = 0.04\n",
    "ctx.strokeStyle = 'blue'\n",
    "\n",
    "function mark_poly(poly) {\n",
    "    ctx.beginPath()\n",
    "    ctx.moveTo(...poly[0])\n",
    "    for (let vec of poly.slice(1)) {\n",
    "        ctx.lineTo(...vec)\n",
    "    }\n",
    "    ctx.lineTo(...poly[0])\n",
    "}\n",
    "\n",
    "mark_poly(hull)\n",
    "ctx.fill()\n",
    "ctx.stroke()\n",
    "\n",
    "ctx.beginPath()\n",
    "ctx.resetTransform()\n",
    "ctx.rect(0, 0, ...CANVAS_SIZE)\n",
    "ctx.lineWidth = 3\n",
    "ctx.strokeStyle = 'orange'\n",
    "ctx.stroke()\n",
    "show_canvas(canvas)"
   ]
  }
 ],
 "metadata": {
  "kernelspec": {
   "display_name": "Javascript (Node.js)",
   "language": "javascript",
   "name": "javascript"
  },
  "language_info": {
   "file_extension": ".js",
   "mimetype": "application/javascript",
   "name": "javascript",
   "version": "12.18.2"
  }
 },
 "nbformat": 4,
 "nbformat_minor": 4
}
