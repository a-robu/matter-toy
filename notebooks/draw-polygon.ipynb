{
 "cells": [
  {
   "cell_type": "code",
   "execution_count": null,
   "metadata": {},
   "outputs": [],
   "source": [
    "require('module-alias/register')\n",
    "var Vec = require('@src/vec')\n",
    "var drawing = require('@src/drawing')\n",
    "var createCanvas = require('canvas').createCanvas"
   ]
  },
  {
   "cell_type": "code",
   "execution_count": null,
   "metadata": {},
   "outputs": [],
   "source": [
    "var CANVAS_SIZE = new Vec(300, 200)\n",
    "var canvas = createCanvas(...CANVAS_SIZE)\n",
    "var ctx = canvas.getContext('2d')\n",
    "\n",
    "hull = [\n",
    "    new Vec(-0.9, -1), // top-left\n",
    "    new Vec(0.9, -1),  // top-right\n",
    "    new Vec(1.3, 1),   // bottom-right\n",
    "    new Vec(-1.3, 1)   // bottom-left\n",
    "]\n",
    "\n",
    "ctx.translate(...CANVAS_SIZE.scale(0.5))\n",
    "ctx.scale(...CANVAS_SIZE.scale(0.2))\n",
    "ctx.lineWidth = 0.04\n",
    "ctx.strokeStyle = 'blue'\n",
    "\n",
    "drawing.mark_poly(ctx, hull)\n",
    "ctx.fill()\n",
    "ctx.stroke()\n",
    "\n",
    "ctx.beginPath()\n",
    "ctx.resetTransform()\n",
    "ctx.rect(0, 0, ...CANVAS_SIZE)\n",
    "ctx.lineWidth = 3\n",
    "ctx.strokeStyle = 'orange'\n",
    "ctx.stroke()\n",
    "drawing.show_canvas(canvas)"
   ]
  }
 ],
 "metadata": {
  "kernelspec": {
   "display_name": "Javascript (Node.js)",
   "language": "javascript",
   "name": "javascript"
  },
  "language_info": {
   "file_extension": ".js",
   "mimetype": "application/javascript",
   "name": "javascript",
   "version": "10.19.0"
  }
 },
 "nbformat": 4,
 "nbformat_minor": 4
}
