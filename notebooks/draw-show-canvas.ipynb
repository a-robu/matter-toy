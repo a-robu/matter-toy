{
 "cells": [
  {
   "cell_type": "code",
   "execution_count": null,
   "metadata": {},
   "outputs": [],
   "source": [
    "require('module-alias/register')\n",
    "var show_canvas = require('@src/drawing').show_canvas\n",
    "var createCanvas = require('canvas').createCanvas"
   ]
  },
  {
   "cell_type": "code",
   "execution_count": null,
   "metadata": {},
   "outputs": [],
   "source": [
    "var canvas = createCanvas(300, 80)\n",
    "var ctx = canvas.getContext('2d')\n",
    "\n",
    "ctx.font = \"40px Georgia\";\n",
    "ctx.rotate(0.1)\n",
    "var gradient = ctx.createLinearGradient(0, 0, canvas.width, 0);\n",
    "gradient.addColorStop(0, \"magenta\");\n",
    "gradient.addColorStop(0.5, \"blue\");\n",
    "gradient.addColorStop(1.0, \"red\");\n",
    "ctx.fillStyle = gradient;\n",
    "ctx.fillText('Awesome!', 10, 50)\n",
    "\n",
    "show_canvas(canvas)"
   ]
  }
 ],
 "metadata": {
  "kernelspec": {
   "display_name": "Javascript (Node.js)",
   "language": "javascript",
   "name": "javascript"
  },
  "language_info": {
   "file_extension": ".js",
   "mimetype": "application/javascript",
   "name": "javascript",
   "version": "12.18.2"
  }
 },
 "nbformat": 4,
 "nbformat_minor": 4
}
