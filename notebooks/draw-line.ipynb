{
 "cells": [
  {
   "cell_type": "code",
   "execution_count": null,
   "metadata": {},
   "outputs": [],
   "source": [
    "require('module-alias/register')\n",
    "var Vec = require('@src/vec')\n",
    "var show_canvas = require('@src/show_canvas')\n",
    "var createCanvas = require('canvas').createCanvas"
   ]
  },
  {
   "cell_type": "code",
   "execution_count": null,
   "metadata": {},
   "outputs": [],
   "source": [
    "var canvas = createCanvas(300, 200)\n",
    "var ctx = canvas.getContext('2d')\n",
    "\n",
    "hull = [new Vec(0, 200), new Vec(100, 0), new Vec(200, 200), new Vec(300, 0)]\n",
    "\n",
    "ctx.scale(1, 1)\n",
    "ctx.beginPath()\n",
    "ctx.strokeStyle = 'blue'\n",
    "\n",
    "function draw_poly(poly) {\n",
    "    ctx.moveTo(...poly[0])\n",
    "    for (let vec of poly.slice(1)) {\n",
    "        ctx.lineTo(...vec)\n",
    "    }\n",
    "    // ctx.fill()\n",
    "    ctx.stroke()\n",
    "}\n",
    "\n",
    "draw_poly(hull)\n",
    "show_canvas(canvas)"
   ]
  }
 ],
 "metadata": {
  "kernelspec": {
   "display_name": "Javascript (Node.js)",
   "language": "javascript",
   "name": "javascript"
  },
  "language_info": {
   "file_extension": ".js",
   "mimetype": "application/javascript",
   "name": "javascript",
   "version": "12.18.2"
  }
 },
 "nbformat": 4,
 "nbformat_minor": 4
}
