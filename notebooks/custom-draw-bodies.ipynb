{
 "cells": [
  {
   "cell_type": "code",
   "execution_count": null,
   "metadata": {},
   "outputs": [],
   "source": [
    "require('module-alias/register')\n",
    "var Vec = require('@src/vec')\n",
    "var drawing = require('@src/drawing')\n",
    "var createCanvas = require('canvas').createCanvas\n",
    "\n",
    "var Matter = require('matter-js')\n",
    "\n",
    "var Engine = Matter.Engine,\n",
    "    World = Matter.World,\n",
    "    Bodies = Matter.Bodies,\n",
    "    Render = Matter.Render"
   ]
  },
  {
   "cell_type": "markdown",
   "metadata": {},
   "source": [
    "# We Can Reliably Draw The Vertices\n",
    "\n",
    "The documentation is not very clear on what the reference point of a body is (center of mass? center point between extrema?). Yet, we can accurately, draw bodies by drawing along the positions of the verticies."
   ]
  },
  {
   "cell_type": "code",
   "execution_count": null,
   "metadata": {},
   "outputs": [],
   "source": [
    "var WORLD_SIZE = new Vec(100, 130)\n",
    "var canvas = createCanvas(...WORLD_SIZE)\n",
    "var ctx = canvas.getContext('2d')\n",
    "var engine = Engine.create()\n",
    "var ball = Bodies.circle(WORLD_SIZE.x / 2, 50, 40)\n",
    "var ground = Bodies.rectangle(WORLD_SIZE.x / 2, WORLD_SIZE.y, WORLD_SIZE.x, 30, {isStatic: true})\n",
    "World.add(engine.world, [ball, ground])\n",
    "\n",
    "var render = Render.create({\n",
    "    canvas: canvas,\n",
    "    engine: engine,\n",
    "    options: {\n",
    "        width: WORLD_SIZE.x,\n",
    "        height: WORLD_SIZE.y,\n",
    "        showAngleIndicator: true,\n",
    "    }\n",
    "});\n",
    "\n",
    "// The following workaround prevents Matter.js from\n",
    "// attempting to set CSS properties in Render.world.\n",
    "// This allows the function to execute successfully\n",
    "// instead of crashing.\n",
    "render.currentBackground = render.options.wireframeBackground\n",
    "'';\n",
    "\n",
    "Render.world(render)\n",
    "\n",
    "for (let body of engine.world.bodies) {\n",
    "    drawing.mark_poly(ctx, body.vertices.map(Vec.fromObject))\n",
    "    ctx.strokeStyle = 'black'\n",
    "    ctx.stroke()\n",
    "}\n",
    "\n",
    "drawing.show_canvas(canvas)"
   ]
  }
 ],
 "metadata": {
  "kernelspec": {
   "display_name": "Javascript (Node.js)",
   "language": "javascript",
   "name": "javascript"
  },
  "language_info": {
   "file_extension": ".js",
   "mimetype": "application/javascript",
   "name": "javascript",
   "version": "10.19.0"
  }
 },
 "nbformat": 4,
 "nbformat_minor": 4
}
