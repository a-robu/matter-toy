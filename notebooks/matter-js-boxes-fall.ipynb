{
 "cells": [
  {
   "cell_type": "code",
   "execution_count": null,
   "metadata": {},
   "outputs": [],
   "source": [
    "require('module-alias/register')\n",
    "var Vec = require('@src/vec')\n",
    "var show_canvas = require('@src/drawing').show_canvas\n",
    "var createCanvas = require('canvas').createCanvas\n",
    "\n",
    "var Matter = require('matter-js')\n",
    "\n",
    "var Engine = Matter.Engine,\n",
    "    World = Matter.World,\n",
    "    Bodies = Matter.Bodies,\n",
    "    Render = Matter.Render\n",
    "\n",
    "var CANVAS_SIZE = new Vec(800, 600)\n",
    "var canvas = createCanvas(...CANVAS_SIZE)\n",
    "var ctx = canvas.getContext('2d')"
   ]
  },
  {
   "cell_type": "markdown",
   "metadata": {},
   "source": [
    "# What is This?\n",
    "\n",
    "In this notebook we try a _headless_ simulation with Matter.js, with the goal of simulating small core gameplay ideas in notebooks (such as trajectories under forces, etc)."
   ]
  },
  {
   "cell_type": "markdown",
   "metadata": {},
   "source": [
    "One issue that we have, now that we are preventing _Matter.js_ from modifying the background of the canvas is that we are getting a trasparent background. One possible workaround could be to use `$$.html` instead of `$$.png` and create a tag with a custom background style (e.g.: `<img src=\"data...\" style=\"background-color: black\" />`)."
   ]
  },
  {
   "cell_type": "code",
   "execution_count": null,
   "metadata": {},
   "outputs": [],
   "source": [
    "var engine = Engine.create()\n",
    "var boxA = Bodies.rectangle(400, 200, 80, 80);\n",
    "var boxB = Bodies.rectangle(450, 50, 80, 80);\n",
    "var ground = Bodies.rectangle(400, 610, 810, 60, { isStatic: true })\n",
    "World.add(engine.world, [boxA, boxB, ground])\n",
    "\n",
    "var render = Render.create({\n",
    "    canvas: canvas,\n",
    "    engine: engine,\n",
    "    options: {\n",
    "        width: 800,\n",
    "        height: 600,\n",
    "        showAngleIndicator: true,\n",
    "    }\n",
    "});\n",
    "\n",
    "// The following workaround prevents Matter.js from\n",
    "// attempting to set CSS properties in Render.world.\n",
    "// This allows the function to execute successfully\n",
    "// instead of crashing.\n",
    "render.currentBackground = render.options.wireframeBackground\n",
    "'';\n",
    "\n",
    "Render.world(render)\n",
    "show_canvas(canvas)"
   ]
  },
  {
   "cell_type": "code",
   "execution_count": null,
   "metadata": {},
   "outputs": [],
   "source": [
    "for (let i = 0; i < 100; i++) {\n",
    "    Engine.update(engine)\n",
    "}\n",
    "'';"
   ]
  },
  {
   "cell_type": "code",
   "execution_count": null,
   "metadata": {},
   "outputs": [],
   "source": [
    "Render.world(render)\n",
    "show_canvas(canvas)"
   ]
  }
 ],
 "metadata": {
  "kernelspec": {
   "display_name": "Javascript (Node.js)",
   "language": "javascript",
   "name": "javascript"
  },
  "language_info": {
   "file_extension": ".js",
   "mimetype": "application/javascript",
   "name": "javascript",
   "version": "10.19.0"
  }
 },
 "nbformat": 4,
 "nbformat_minor": 4
}
